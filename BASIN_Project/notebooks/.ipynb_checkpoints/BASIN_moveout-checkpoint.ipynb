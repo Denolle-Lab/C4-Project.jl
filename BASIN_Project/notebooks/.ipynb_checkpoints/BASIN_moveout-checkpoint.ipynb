{
 "cells": [
  {
   "cell_type": "markdown",
   "metadata": {},
   "source": [
    "# BASIN moveout plot notebooks\n",
    "This notebook makes moveout plots of the stacked cross correlations between broadbands and nodal stations. It is highly inspired by Julian Schmitt's work, modified by Marine Denolle (mdenolle@uw.edu)"
   ]
  },
  {
   "cell_type": "code",
   "execution_count": 3,
   "metadata": {},
   "outputs": [],
   "source": [
    "# Packages - set GR as plotting backend \n",
    "#include(\"/Users/julianschmitt/Documents/Schoolwork/Seismology/SeisCore.jl/src/SeisCore.jl\")\n",
    "using Pkg, GR, HDF5, SeisIO, SeisNoise, Plots, Dates, CSV, DataFrames, Distributed, JLD2, Statistics, PyCall, Glob, StructArrays, ColorSchemes, Plots.PlotUtils, AbstractFFTs\n",
    "# loadcolorscheme(:cm_maxamp,ColorSchemes.gist_heat.colors[end-50:-1:1], \"maxamp color\", \"for waveform plot\");"
   ]
  },
  {
   "cell_type": "code",
   "execution_count": 4,
   "metadata": {},
   "outputs": [
    {
     "data": {
      "text/plain": [
       "foldersize (generic function with 2 methods)"
      ]
     },
     "execution_count": 4,
     "metadata": {},
     "output_type": "execute_result"
    }
   ],
   "source": [
    "include(\"../../src/process.jl\")\n",
    "include(\"/Users/marinedenolle/BASIN/C4-Project.jl/src/process.jl\")\n",
    "include(\"../src/utils.jl\")\n",
    "# ENV[\"GR\"] = \"\"\n",
    "# Pkg.build(\"GR\")"
   ]
  },
  {
   "cell_type": "code",
   "execution_count": 5,
   "metadata": {},
   "outputs": [
    {
     "name": "stdout",
     "output_type": "stream",
     "text": [
      "search: \u001b[0m\u001b[1mf\u001b[22m\u001b[0m\u001b[1mf\u001b[22m\u001b[0m\u001b[1mt\u001b[22m\u001b[0m\u001b[1md\u001b[22m\u001b[0m\u001b[1me\u001b[22m\u001b[0m\u001b[1mr\u001b[22m\u001b[0m\u001b[1mi\u001b[22m\u001b[0m\u001b[1mv\u001b[22m\u001b[0m\u001b[1ma\u001b[22m\u001b[0m\u001b[1mt\u001b[22m\u001b[0m\u001b[1mi\u001b[22m\u001b[0m\u001b[1mv\u001b[22m\u001b[0m\u001b[1me\u001b[22m\n",
      "\n"
     ]
    },
    {
     "data": {
      "text/latex": [
       "No documentation found.\n",
       "\n",
       "\\texttt{fftderivative} is a \\texttt{Function}.\n",
       "\n",
       "\\begin{verbatim}\n",
       "# 1 method for generic function \"fftderivative\":\n",
       "[1] fftderivative(A::CorrData) in Main at /Users/marinedenolle/BASIN/C4-Project.jl/src/process.jl:5\n",
       "\\end{verbatim}\n"
      ],
      "text/markdown": [
       "No documentation found.\n",
       "\n",
       "`fftderivative` is a `Function`.\n",
       "\n",
       "```\n",
       "# 1 method for generic function \"fftderivative\":\n",
       "[1] fftderivative(A::CorrData) in Main at /Users/marinedenolle/BASIN/C4-Project.jl/src/process.jl:5\n",
       "```\n"
      ],
      "text/plain": [
       "  No documentation found.\n",
       "\n",
       "  \u001b[36mfftderivative\u001b[39m is a \u001b[36mFunction\u001b[39m.\n",
       "\n",
       "\u001b[36m  # 1 method for generic function \"fftderivative\":\u001b[39m\n",
       "\u001b[36m  [1] fftderivative(A::CorrData) in Main at /Users/marinedenolle/BASIN/C4-Project.jl/src/process.jl:5\u001b[39m"
      ]
     },
     "execution_count": 5,
     "metadata": {},
     "output_type": "execute_result"
    }
   ],
   "source": [
    "?fftderivative"
   ]
  },
  {
   "cell_type": "code",
   "execution_count": 9,
   "metadata": {},
   "outputs": [],
   "source": [
    "# metaparams for plots\n",
    "n_derivatives = 2\n",
    "n_deriv_names = [\"Raw\",\"PGD\",\"PDV\"]\n",
    "#plot_sorttype = \"Latitude\" # other options include \"Longitude\" and (soon) \"Distance\" (in progress...) \n",
    "years = [2017]#, 2018, 2019]\n",
    "components = [\"ZZ\",\"EE\",\"EN\",\"EZ\",\"NE\", \"NN\", \"NZ\",\"ZE\",\"ZN\", \"ZZ\"]\n",
    "source_stations = [\"SVD\"]#[\"CHN\",\"CJM\",\"DEV\",\"IPT\",\"LPC\",\"SNO\",\"SVD\",\"TA2\"]\n",
    "rootdir = \"/Users/marinedenolle/BASIN\" # chose root directory for plots\n",
    "lw, scale, frequency_plots = 0.5, 3, [[0.1,0.2],[0.15, 0.25],[0.2,0.3],[0.1,0.35]]\n",
    "locations = DataFrame(CSV.File(\"/Users/marinedenolle/BASIN/C4-Project.jl/docs/modified_nodal.csv\"));"
   ]
  },
  {
   "cell_type": "code",
   "execution_count": 11,
   "metadata": {},
   "outputs": [
    {
     "name": "stdout",
     "output_type": "stream",
     "text": [
      "[\"/Users/marinedenolle/BASIN/nodestack/2017\", \"/Users/marinedenolle/BASIN/nodestack/2018\", \"/Users/marinedenolle/BASIN/nodestack/2019\", \"/Users/marinedenolle/BASIN/nodestack/CI.SVD_2017.h5\", \"/Users/marinedenolle/BASIN/nodestack/CI.SVD_2017_allday.h5\", \"/Users/marinedenolle/BASIN/nodestack/CI.SVD_2017_rmamp.h5\", \"/Users/marinedenolle/BASIN/nodestack/CI.SVD_2017_rmamp_night.h5\", \"/Users/marinedenolle/BASIN/nodestack/CI.SVD_2017_rmamp_night_shortwindows.h5\", \"/Users/marinedenolle/BASIN/nodestack/CI.SVD_2017_strict.h5\"]\n"
     ]
    },
    {
     "data": {
      "text/plain": [
       "6-element Vector{String}:\n",
       " \"/Users/marinedenolle/BASIN/nodestack/CI.SVD_2017.h5\"\n",
       " \"/Users/marinedenolle/BASIN/nodestack/CI.SVD_2017_allday.h5\"\n",
       " \"/Users/marinedenolle/BASIN/nodestack/CI.SVD_2017_rmamp.h5\"\n",
       " \"/Users/marinedenolle/BASIN/nodestack/CI.SVD_2017_rmamp_night.h5\"\n",
       " \"/Users/marinedenolle/BASIN/nodestack/CI.SVD_2017_rmamp_night_shortwindows.h5\"\n",
       " \"/Users/marinedenolle/BASIN/nodestack/CI.SVD_2017_strict.h5\""
      ]
     },
     "execution_count": 11,
     "metadata": {},
     "output_type": "execute_result"
    }
   ],
   "source": [
    "files = glob(\"nodestack/*\",rootdir);\n",
    "println(files)\n",
    "filter!(x -> occursin(\"SVD\", x), files)"
   ]
  },
  {
   "cell_type": "markdown",
   "metadata": {},
   "source": [
    "## function to plot per distance range"
   ]
  },
  {
   "cell_type": "code",
   "execution_count": 12,
   "metadata": {},
   "outputs": [
    {
     "data": {
      "text/plain": [
       "plot_by_latitude (generic function with 4 methods)"
      ]
     },
     "execution_count": 12,
     "metadata": {},
     "output_type": "execute_result"
    }
   ],
   "source": [
    "function plot_by_latitude(corrs::Array{CorrData,1}, freqs::Array{Array{Float64,1},1}, \n",
    "                            attr::Array{String,1}=[\"\",\"\",\"\",\"\"], src_geo::Any=nothing, fs::Float64=20.)\n",
    "    \n",
    "#     loadcolorscheme(:cm_maxamp,ColorSchemes.hot.colors[end-50:-1:1], \"maxamp color\", \"for waveform plot\");\n",
    "#     loadcolorscheme(:cm_maxamp,ColorSchemes.jet1.colors[end-50:-1:1], \"maxamp color\", \"for waveform plot\");\n",
    "    loadcolorscheme(:cm_maxamp,ColorSchemes.jet1.colors[end:-1:1], \"maxamp color\", \"for waveform plot\");\n",
    "    source = attr[1]\n",
    "    println(source)\n",
    "    println(\"Sorting by distance\")\n",
    "    plot_sorttype == \"Latitude\"\n",
    "    println(corrs[1].loc.lat)\n",
    "    \n",
    "    sort_method = sort([corr.loc.lat for corr in corrs])\n",
    "#         sort_method = sort([corr.latitude for corr in corrs])#sort([get_dist(source_geo, corr.loc) for corr in corrs])\n",
    "    p = sortperm([corr.loc.lat for corr in corrs])#[get_dist(source_geo, corr.loc) for corr in corrs])\n",
    "        #println(\"Not currently a supported stacktype\")\n",
    "\n",
    "\n",
    "    lmin, lmax = minimum(sort_method), maximum(sort_method)\n",
    "    new_corrs, n_corrs = corrs[p], length(corrs)\n",
    "    y_labels = (round.(collect(range(0, 10*n_corrs, length=10)),digits=3),round.(collect(range(lmin, lmax, length=10)),digits=3))\n",
    "    for freq_pair in freqs\n",
    "        NS_plot = plot(xlims = (-100,100), ylims = (-10,n_corrs*10+15), \n",
    "                    yticks=y_labels,xlabel = \"Time (s)\", ylabel = \"Station Nodes by $plot_sorttype (lat)\",  \n",
    "                    xtickfontsize=5,ytickfontsize=5,fontsize=5, xguidefontsize = 10, yguidefontsize = 10,\n",
    "                    legendfontsize = 10, title=\"$(attr[3]) $(attr[2]) from $(attr[1]): $(freq_pair[1]) to $(freq_pair[2])\",\n",
    "                    titlefontsize= 10)\n",
    "        # bandpass correlations \n",
    "        corrs_processed = []\n",
    "        max_amp = []\n",
    "        ys, maxloc = [], []\n",
    "        for (ind, corr) in enumerate(new_corrs)\n",
    "            try\n",
    "                # bandpass, scale, shift, and add to plot\n",
    "                dist = corr.dist #ind*5#get_dist(source_geo, corr.loc)\n",
    "                taper!(corr)\n",
    "                processed = bandpass(fftderivative(corr).corr, freq_pair[1], freq_pair[2], 20.)\n",
    "                nwin2 = convert(Int64, round(length(processed)/2))\n",
    "                t2=convert(Int64, floor(nwin2-(dist/5)*corr.fs))\n",
    "                t1=convert(Int64, ceil(nwin2-(dist/1.5)*corr.fs))\n",
    "                trange = collect(t1:1:t2) # anticausal window of ballistic waves\n",
    "                imax = findmax(processed[trange])[2]+t1\n",
    "                push!(maxloc, imax)\n",
    "                push!(ys, ind*10)\n",
    "                push!(max_amp, findmax(processed[trange]))\n",
    "                push!(corrs_processed, processed./findmax(processed)[1].*10 )\n",
    "            catch e\n",
    "                println(e)\n",
    "            end\n",
    "        end\n",
    "        # get the max amp\n",
    "        mmax = findmax(max_amp)[1][1]\n",
    "        T = collect(-300.:1/fs:300.)\n",
    "        crap=[]\n",
    "        for i in collect(1:length(corrs_processed))\n",
    "            push!(crap,corrs_processed[i]./max_amp[i][1].*mmax .+ 10*i)\n",
    "\n",
    "        end\n",
    "        plot!(NS_plot, T, crap, color=:cm_maxamp,  \n",
    "                line_z=getindex.(max_amp,1)', fmt = :png, linewidth = 0.5, reuse = false, legend = false)  \n",
    "#         plot!(NS_plot, T, crap, color=:cm_maxamp, colorbar_title=\"Normalized Maximum Amplitude\", \n",
    "#                 line_z=getindex.(max_amp,1)', fmt = :png, linewidth = 0.5, reuse = false, legend = false)     \n",
    "        plot!(size=(350,400),dpi=500)\n",
    "        \n",
    "        # add dots where max_amp is chosen \n",
    "        dot_locations = [amp[2] for amp in max_amp]\n",
    "        y = 10 .* collect(0:length(max_amp))\n",
    "        mloc = [T[ind] for ind in maxloc]\n",
    "        scatter!(mloc, ys, color=\"black\", markersize=1.2)\n",
    "        filepath = joinpath(\"/Users/marinedenolle/BASIN/nodestack_plots/$(attr[1])/\")\n",
    "        DIR = dirname(filepath)\n",
    "        if !isdir(DIR)\n",
    "            mkpath(DIR)\n",
    "        end\n",
    "        print(filepath)\n",
    "        png(NS_plot,filepath*\"$(new_corrs[1].name[1:5])_waveforms_$(attr[2])_$(freq_pair[1])to$(freq_pair[2])_pws.png\")\n",
    "    end\n",
    "end"
   ]
  },
  {
   "cell_type": "code",
   "execution_count": 96,
   "metadata": {},
   "outputs": [
    {
     "name": "stdout",
     "output_type": "stream",
     "text": [
      "String\n",
      "CI\n",
      "/Users/marinedenolle/BASIN/nodestack/CI.SVD_2017.h5\n"
     ]
    }
   ],
   "source": [
    "# print(files)\n",
    "f=files[1]\n",
    "println(typeof(f))\n",
    "year = split(split(split(f,\"/\")[end],\"_\")[end-1],\".\")[1]\n",
    "println(year)\n",
    "println(f)"
   ]
  },
  {
   "cell_type": "markdown",
   "metadata": {},
   "source": [
    "## Stackplot Script for BASIN Data"
   ]
  },
  {
   "cell_type": "code",
   "execution_count": 97,
   "metadata": {},
   "outputs": [
    {
     "name": "stdout",
     "output_type": "stream",
     "text": [
      "/Users/marinedenolle/BASIN/nodestack/CI.SVD_2017.h5\n",
      "2017\n",
      "cm_maxamp overwritten\n",
      "SVD\n",
      "Sorting by distance\n",
      "34.15833\n",
      "/Users/marinedenolle/BASIN/nodestack_windowed/SVD//Users/marinedenolle/BASIN/nodestack_windowed/SVD//Users/marinedenolle/BASIN/nodestack_windowed/SVD//Users/marinedenolle/BASIN/nodestack_windowed/SVD/cm_maxamp overwritten\n",
      "SVD\n",
      "Sorting by distance\n",
      "34.15833\n",
      "/Users/marinedenolle/BASIN/nodestack_windowed/SVD//Users/marinedenolle/BASIN/nodestack_windowed/SVD//Users/marinedenolle/BASIN/nodestack_windowed/SVD//Users/marinedenolle/BASIN/nodestack_windowed/SVD/cm_maxamp overwritten\n",
      "SVD\n",
      "Sorting by distance\n",
      "34.15833\n",
      "/Users/marinedenolle/BASIN/nodestack_windowed/SVD//Users/marinedenolle/BASIN/nodestack_windowed/SVD//Users/marinedenolle/BASIN/nodestack_windowed/SVD//Users/marinedenolle/BASIN/nodestack_windowed/SVD/cm_maxamp overwritten\n",
      "SVD\n",
      "Sorting by distance\n",
      "34.15833\n",
      "/Users/marinedenolle/BASIN/nodestack_windowed/SVD//Users/marinedenolle/BASIN/nodestack_windowed/SVD//Users/marinedenolle/BASIN/nodestack_windowed/SVD//Users/marinedenolle/BASIN/nodestack_windowed/SVD/cm_maxamp overwritten\n",
      "SVD\n",
      "Sorting by distance\n",
      "34.15833\n",
      "/Users/marinedenolle/BASIN/nodestack_windowed/SVD//Users/marinedenolle/BASIN/nodestack_windowed/SVD//Users/marinedenolle/BASIN/nodestack_windowed/SVD//Users/marinedenolle/BASIN/nodestack_windowed/SVD/cm_maxamp overwritten\n",
      "SVD\n",
      "Sorting by distance\n",
      "34.15833\n",
      "/Users/marinedenolle/BASIN/nodestack_windowed/SVD//Users/marinedenolle/BASIN/nodestack_windowed/SVD//Users/marinedenolle/BASIN/nodestack_windowed/SVD//Users/marinedenolle/BASIN/nodestack_windowed/SVD/cm_maxamp overwritten\n",
      "SVD\n",
      "Sorting by distance\n",
      "34.15833\n",
      "/Users/marinedenolle/BASIN/nodestack_windowed/SVD//Users/marinedenolle/BASIN/nodestack_windowed/SVD//Users/marinedenolle/BASIN/nodestack_windowed/SVD//Users/marinedenolle/BASIN/nodestack_windowed/SVD/cm_maxamp overwritten\n",
      "SVD\n",
      "Sorting by distance\n",
      "34.15833\n",
      "/Users/marinedenolle/BASIN/nodestack_windowed/SVD//Users/marinedenolle/BASIN/nodestack_windowed/SVD//Users/marinedenolle/BASIN/nodestack_windowed/SVD//Users/marinedenolle/BASIN/nodestack_windowed/SVD/cm_maxamp overwritten\n",
      "SVD\n",
      "Sorting by distance\n",
      "34.15833\n",
      "/Users/marinedenolle/BASIN/nodestack_windowed/SVD//Users/marinedenolle/BASIN/nodestack_windowed/SVD//Users/marinedenolle/BASIN/nodestack_windowed/SVD//Users/marinedenolle/BASIN/nodestack_windowed/SVD/cm_maxamp overwritten\n",
      "SVD\n",
      "Sorting by distance\n",
      "34.15833\n",
      "/Users/marinedenolle/BASIN/nodestack_windowed/SVD//Users/marinedenolle/BASIN/nodestack_windowed/SVD//Users/marinedenolle/BASIN/nodestack_windowed/SVD//Users/marinedenolle/BASIN/nodestack_windowed/SVD/"
     ]
    }
   ],
   "source": [
    "plot_sorttype = \"Latitude\"\n",
    "println(f)\n",
    "# year = split(split(split(f,\"/\")[end],\"_\")[end-1],\".\")[1]\n",
    "year = split(split(split(f,\"/\")[end],\"_\")[end],\".\")[1]\n",
    "println(year)\n",
    "# \n",
    "try  \n",
    "    file = h5open(f,\"r\")\n",
    "    for comp in components\n",
    "        for (ind, sktype) in enumerate([\"pws\"])#,\"pws\",\"robust\"])\n",
    "            for filt in [\"NO.B4\"]#,\"NO.B2\",\"NO.B3\", \"NO.B4\",\"NO.B5\",\"NO.B6\",\"NO.G1\",\"NO.G2\",\"NO.G3\",\"NO.G4\"]\n",
    "                source, stacktype, component, filter = convert(String, split(f, \".\")[end-1][1:3]), sktype, comp, filt\n",
    "                fcorrs = get_corrs(file, stacktype, component, filter)\n",
    "                if length(fcorrs) > 1\n",
    "#                         println(\"Plotting $filt $comp $sktype for $source in $year\")\n",
    "                    attributes = [source,component,stacktype]\n",
    "                    plot_by_latitude(fcorrs, frequency_plots,attributes)\n",
    "#                         println(\"finised plotting\")\n",
    "                end\n",
    "            end\n",
    "        end\n",
    "    end\n",
    "catch e\n",
    "    println(e)\n",
    "end"
   ]
  },
  {
   "cell_type": "code",
   "execution_count": null,
   "metadata": {},
   "outputs": [],
   "source": []
  },
  {
   "cell_type": "code",
   "execution_count": null,
   "metadata": {},
   "outputs": [],
   "source": []
  }
 ],
 "metadata": {
  "kernelspec": {
   "display_name": "Julia 1.7.2",
   "language": "julia",
   "name": "julia-1.7"
  },
  "language_info": {
   "file_extension": ".jl",
   "mimetype": "application/julia",
   "name": "julia",
   "version": "1.7.2"
  }
 },
 "nbformat": 4,
 "nbformat_minor": 4
}
