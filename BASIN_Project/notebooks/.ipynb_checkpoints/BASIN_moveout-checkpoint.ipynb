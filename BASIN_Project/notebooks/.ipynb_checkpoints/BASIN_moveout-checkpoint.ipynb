{
 "cells": [
  {
   "cell_type": "markdown",
   "metadata": {},
   "source": [
    "# BASIN moveout plot notebooks\n",
    "This notebook makes moveout plots of the stacked cross correlations between broadbands and nodal stations"
   ]
  },
  {
   "cell_type": "code",
   "execution_count": null,
   "metadata": {},
   "outputs": [],
   "source": [
    "# Packages - set GR as plotting backend \n",
    "#include(\"/Users/julianschmitt/Documents/Schoolwork/Seismology/SeisCore.jl/src/SeisCore.jl\")\n",
    "using Pkg, SeisIO, SeisNoise, Plots, Dates, CSV, DataFrames, Distributed, JLD2, Statistics, PyCall, Glob, StructArrays, ColorSchemes, Plots.PlotUtils, HDF5, AbstractFFTs\n",
    "include(\"../../src/process.jl\")\n",
    "include(\"../src/utils.jl\")\n",
    "ENV[\"GR\"] = \"\"\n",
    "Pkg.build(\"GR\")\n",
    "loadcolorscheme(:cm_maxamp,ColorSchemes.gist_heat.colors[end-50:-1:1], \"maxamp color\", \"for waveform plot\");"
   ]
  }
 ],
 "metadata": {
  "kernelspec": {
   "display_name": "Julia nodepts 1.7.2",
   "language": "julia",
   "name": "julia-nodepts-1.7"
  },
  "language_info": {
   "file_extension": ".jl",
   "mimetype": "application/julia",
   "name": "julia",
   "version": "1.7.2"
  }
 },
 "nbformat": 4,
 "nbformat_minor": 4
}
