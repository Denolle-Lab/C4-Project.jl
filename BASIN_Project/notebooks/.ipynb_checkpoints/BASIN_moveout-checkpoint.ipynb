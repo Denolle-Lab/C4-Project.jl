{
 "cells": [
  {
   "cell_type": "markdown",
   "metadata": {},
   "source": [
    "# BASIN moveout plot notebooks\n",
    "This notebook makes moveout plots of the stacked cross correlations between broadbands and nodal stations. It is highly inspired by Julian Schmitt's work, modified by Marine Denolle (mdenolle@uw.edu)"
   ]
  },
  {
   "cell_type": "code",
   "execution_count": 1,
   "metadata": {},
   "outputs": [
    {
     "name": "stderr",
     "output_type": "stream",
     "text": [
      "WARNING: could not import HDF5.Group into _hdf5_implementation\n",
      "WARNING: could not import HDF5.Dataset into _hdf5_implementation\n",
      "┌ Warning: Error requiring `HDF5` from `Plots`\n",
      "│   exception = (LoadError(\"/Users/marinedenolle/.julia/packages/Plots/tXtrW/src/backends/hdf5.jl\", 36, UndefVarError(:Group)), Union{Ptr{Nothing}, Base.InterpreterIP}[Ptr{Nothing} @0x000000010e4bfb1f, Ptr{Nothing} @0x000000010e5693cf, Ptr{Nothing} @0x000000010e56a57b, Ptr{Nothing} @0x000000010e568ae6, Ptr{Nothing} @0x000000010e5690dc, Base.InterpreterIP in top-level CodeInfo for Plots._hdf5_implementation at statement 4, Ptr{Nothing} @0x000000010e58415f, Ptr{Nothing} @0x000000010e5842f5, Ptr{Nothing} @0x000000010e583f02, Ptr{Nothing} @0x000000010e583f02, Ptr{Nothing} @0x000000010e5851d5, Ptr{Nothing} @0x0000000118b367da, Ptr{Nothing} @0x000000010e551160, Ptr{Nothing} @0x0000000118b75f45, Ptr{Nothing} @0x0000000118701c85, Ptr{Nothing} @0x000000010e551160, Ptr{Nothing} @0x000000010e55df4a, Ptr{Nothing} @0x000000014dfe4faa, Ptr{Nothing} @0x000000010e551160, Ptr{Nothing} @0x000000010e56a59f, Ptr{Nothing} @0x000000010e568ae6, Ptr{Nothing} @0x000000010e5690dc, Base.InterpreterIP in top-level CodeInfo for Plots at statement 10, Ptr{Nothing} @0x000000010e58415f, Ptr{Nothing} @0x000000010e5851d5, Ptr{Nothing} @0x000000014dfe4f1b, Ptr{Nothing} @0x000000014dfe4f3f, Ptr{Nothing} @0x000000010e551160, Ptr{Nothing} @0x000000010e56a59f, Ptr{Nothing} @0x000000010e568809, Ptr{Nothing} @0x000000010e568d2a, Ptr{Nothing} @0x000000010e56850c, Base.InterpreterIP in MethodInstance for Requires.err(::Any, ::Module, ::String, ::String, ::Any) at statement 8, Ptr{Nothing} @0x000000014dfe4e65, Ptr{Nothing} @0x000000014dfe4e7f, Ptr{Nothing} @0x000000010e551160, Ptr{Nothing} @0x000000010e56a59f, Ptr{Nothing} @0x000000010e568809, Ptr{Nothing} @0x000000010e568d2a, Ptr{Nothing} @0x000000010e56850c, Base.InterpreterIP in MethodInstance for Requires.withpath(::Any, ::String) at statement 10, Ptr{Nothing} @0x000000014dfe4d14, Ptr{Nothing} @0x000000014dfe4dbf, Ptr{Nothing} @0x000000010e551160, Ptr{Nothing} @0x000000010e56a59f, Ptr{Nothing} @0x000000010e5687d0, Ptr{Nothing} @0x000000010e56850c, Base.InterpreterIP in MethodInstance for Requires.listenpkg(::Any, ::Base.PkgId) at statement 3, Ptr{Nothing} @0x000000014dfd6e64, Ptr{Nothing} @0x000000014dfd7dbf, Ptr{Nothing} @0x000000010e551160, Ptr{Nothing} @0x000000010e5828c3, Ptr{Nothing} @0x000000010e574027, Ptr{Nothing} @0x000000014dfb5e46, Ptr{Nothing} @0x000000014dfb7295, Ptr{Nothing} @0x000000014dfb9aeb, Ptr{Nothing} @0x000000014dfbc389, Ptr{Nothing} @0x000000014dfbd215, Ptr{Nothing} @0x000000010e551160, Ptr{Nothing} @0x000000010e584d3c, Ptr{Nothing} @0x000000010e583adf, Ptr{Nothing} @0x000000010e583f02, Ptr{Nothing} @0x000000010e5851d5, Ptr{Nothing} @0x000000014df92fcc, Ptr{Nothing} @0x000000014df93479, Ptr{Nothing} @0x000000010e551160, Ptr{Nothing} @0x000000014df907da, Ptr{Nothing} @0x000000010e551160, Ptr{Nothing} @0x000000010e55df4a, Ptr{Nothing} @0x000000014df850e8, Ptr{Nothing} @0x000000014df8580e, Ptr{Nothing} @0x000000014df8582f, Ptr{Nothing} @0x000000010e551160, Ptr{Nothing} @0x000000010e56ee1f])\n",
      "└ @ Requires /Users/marinedenolle/.julia/packages/Requires/Z8rfN/src/require.jl:51\n",
      "\u001b[32m\u001b[1m    Building\u001b[22m\u001b[39m GR → `~/.julia/scratchspaces/44cfe95a-1eb2-52ea-b672-e2afdf69b78f/9f836fb62492f4b0f0d3b06f55983f2704ed0883/build.log`\n",
      "\u001b[32m\u001b[1mPrecompiling\u001b[22m\u001b[39m project...\n",
      "\u001b[33m  ✓ \u001b[39m\u001b[90mGR\u001b[39m\n",
      "\u001b[33m  ✓ \u001b[39mPlots\n",
      "  2 dependencies successfully precompiled in 41 seconds (217 already precompiled)\n",
      "  \u001b[33m2\u001b[39m dependencies precompiled but different versions are currently loaded. Restart julia to access the new versions\n"
     ]
    }
   ],
   "source": [
    "# Packages - set GR as plotting backend \n",
    "#include(\"/Users/julianschmitt/Documents/Schoolwork/Seismology/SeisCore.jl/src/SeisCore.jl\")\n",
    "using Pkg, SeisIO, SeisNoise, Plots, Dates, CSV, DataFrames, Distributed, JLD2, Statistics, PyCall, Glob, StructArrays, ColorSchemes, Plots.PlotUtils, HDF5, AbstractFFTs\n",
    "include(\"../../src/process.jl\")\n",
    "include(\"../src/utils.jl\")\n",
    "ENV[\"GR\"] = \"\"\n",
    "Pkg.build(\"GR\")\n",
    "loadcolorscheme(:cm_maxamp,ColorSchemes.gist_heat.colors[end-50:-1:1], \"maxamp color\", \"for waveform plot\");"
   ]
  },
  {
   "cell_type": "code",
   "execution_count": 139,
   "metadata": {},
   "outputs": [],
   "source": [
    "# metaparams for plots\n",
    "n_derivatives = 2\n",
    "n_deriv_names = [\"Raw\",\"PGD\",\"PDV\"]\n",
    "#plot_sorttype = \"Latitude\" # other options include \"Longitude\" and (soon) \"Distance\" (in progress...) \n",
    "years = [2017]#, 2018, 2019]\n",
    "components = [\"ZZ\",\"EE\",\"EN\",\"EZ\",\"NE\", \"NN\", \"NZ\",\"ZE\",\"ZN\", \"ZZ\"]\n",
    "source_stations = [\"SVD\"]#[\"CHN\",\"CJM\",\"DEV\",\"IPT\",\"LPC\",\"SNO\",\"SVD\",\"TA2\"]\n",
    "rootdir = \"/Users/marinedenolle/BASIN\" # chose root directory for plots\n",
    "lw, scale, frequency_plots = 0.5, 3, [[0.1,0.2],[0.15, 0.25],[0.2,0.3],[0.1,0.35]]\n",
    "locations = DataFrame(CSV.File(\"/Users/marinedenolle/BASIN/C4-Project.jl/docs/modified_nodal.csv\"));"
   ]
  },
  {
   "cell_type": "code",
   "execution_count": 140,
   "metadata": {},
   "outputs": [
    {
     "name": "stdout",
     "output_type": "stream",
     "text": [
      "[\"/Users/marinedenolle/BASIN/nodestack/CI.SVD_2017.h5\"]\n"
     ]
    },
    {
     "data": {
      "text/plain": [
       "1-element Vector{String}:\n",
       " \"/Users/marinedenolle/BASIN/nodestack/CI.SVD_2017.h5\""
      ]
     },
     "execution_count": 140,
     "metadata": {},
     "output_type": "execute_result"
    }
   ],
   "source": [
    "files = glob(\"nodestack/*\",rootdir);\n",
    "println(files)\n",
    "filter!(x -> occursin(\"SVD\", x), files)"
   ]
  },
  {
   "cell_type": "markdown",
   "metadata": {},
   "source": [
    "## function to plot per distance range"
   ]
  },
  {
   "cell_type": "code",
   "execution_count": 224,
   "metadata": {},
   "outputs": [
    {
     "data": {
      "text/plain": [
       "plot_by_latitude (generic function with 4 methods)"
      ]
     },
     "execution_count": 224,
     "metadata": {},
     "output_type": "execute_result"
    }
   ],
   "source": [
    "function plot_by_latitude(corrs::Array{CorrData,1}, freqs::Array{Array{Float64,1},1}, \n",
    "                            attr::Array{String,1}=[\"\",\"\",\"\",\"\"], src_geo::Any=nothing, fs::Float64=20.)\n",
    "    source = attr[1]\n",
    "    println(source)\n",
    "    println(\"Sorting by distance\")\n",
    "    plot_sorttype == \"Latitude\"\n",
    "    println(corrs[1].loc.lat)\n",
    "    \n",
    "    sort_method = sort([corr.loc.lat for corr in corrs])\n",
    "#         sort_method = sort([corr.latitude for corr in corrs])#sort([get_dist(source_geo, corr.loc) for corr in corrs])\n",
    "    p = sortperm([corr.loc.lat for corr in corrs])#[get_dist(source_geo, corr.loc) for corr in corrs])\n",
    "        #println(\"Not currently a supported stacktype\")\n",
    "\n",
    "\n",
    "    lmin, lmax = minimum(sort_method), maximum(sort_method)\n",
    "    new_corrs, n_corrs = corrs[p], length(corrs)\n",
    "    y_labels = (round.(collect(range(0, 5*n_corrs, length=10)),digits=3),round.(collect(range(lmin, lmax, length=10)),digits=3))\n",
    "    for freq_pair in freqs\n",
    "        NS_plot = plot(xlims = (-60,60), ylims = (-5,n_corrs*5+15), \n",
    "                    yticks=y_labels,xlabel = \"Time (s)\", ylabel = \"Station Nodes by $plot_sorttype (km)\",  \n",
    "                    xtickfontsize=5,ytickfontsize=5,fontsize=5, xguidefontsize = 10, yguidefontsize = 10,\n",
    "                    legendfontsize = 10, title=\"$(attr[3]) $(attr[2]) from $(attr[1]): $(freq_pair[1]) to $(freq_pair[2])\",\n",
    "                    titlefontsize= 10)\n",
    "        # bandpass correlations \n",
    "        corrs_processed = []\n",
    "        max_amp = []\n",
    "        ys, maxloc = [], []\n",
    "        for (ind, corr) in enumerate(new_corrs)\n",
    "            try\n",
    "                # bandpass, scale, shift, and add to plot\n",
    "                dist = corr.dist #ind*5#get_dist(source_geo, corr.loc)\n",
    "                taper!(corr)\n",
    "                processed = bandpass(corr.corr, freq_pair[1], freq_pair[2], 20.)\n",
    "                nwin2 = convert(Int64, round(length(processed)/2))\n",
    "                t2=convert(Int64, floor(nwin2-(dist/5)*corr.fs))\n",
    "                t1=convert(Int64, ceil(nwin2-(dist/1.5)*corr.fs))\n",
    "                trange = collect(t1:1:t2) # anticausal window of ballistic waves\n",
    "                imax = findmax(processed[trange])[2]+t1\n",
    "                push!(maxloc, imax)\n",
    "                push!(ys, ind*5)\n",
    "                push!(max_amp, findmax(processed[trange]))\n",
    "                push!(corrs_processed, processed./findmax(processed)[1].*10 .+ind*5)\n",
    "            catch e\n",
    "                println(e)\n",
    "            end\n",
    "        end\n",
    "        println(\"done with the loop\")\n",
    "        # get the max amp\n",
    "        mmax = findmax(max_amp)[1]\n",
    "        T = collect(-300.:1/fs:300.)\n",
    "        println(size(corrs_processed))\n",
    "        println(length(max_amp))\n",
    "        println(length(mmax))\n",
    "        plot!(NS_plot, T, corrs_processed./max_amp.*mmax, color=:cm_maxamp, colorbar_title=\"Normalized Maximum Amplitude\", \n",
    "                line_z=getindex.(max_amp,1)', fmt = :png, linewidth = 0.5, reuse = false, legend = false)    \n",
    "        plot!(size=(350,400),dpi=500)\n",
    "        \n",
    "        # add dots where max_amp is chosen \n",
    "        dot_locations = [amp[2] for amp in max_amp]\n",
    "        y = 5 .* collect(0:length(max_amp))\n",
    "#         scatter!(getindex.(getindex.(max_amp,2),1) , y, color=\"black\", markersize=2)\n",
    "        mloc = [T[ind] for ind in maxloc]\n",
    "        scatter!(mloc, ys, color=\"black\", markersize=1.2)\n",
    "        filepath = joinpath(\"nodestack_windowed/$(attr[1])/\")\n",
    "        println(filepath)\n",
    "        #         # ensure filepath is valid \n",
    "        DIR = dirname(filepath)\n",
    "        if !isdir(DIR)\n",
    "            mkpath(DIR)\n",
    "        end\n",
    "        print(filepath)\n",
    "        png(NS_plot,filepath*\"waveforms_$(attr[2])_$(freq_pair[1])to$(freq_pair[2]).png\")\n",
    "    end\n",
    "end"
   ]
  },
  {
   "cell_type": "markdown",
   "metadata": {},
   "source": [
    "## Stackplot Script for BASIN Data"
   ]
  },
  {
   "cell_type": "code",
   "execution_count": 225,
   "metadata": {},
   "outputs": [
    {
     "name": "stdout",
     "output_type": "stream",
     "text": [
      "Plotting NO.B4 ZZ linear for SVD in 2017\n",
      "SVD\n",
      "Sorting by distance\n",
      "34.15833\n",
      "done with the loop\n",
      "(90,)\n",
      "90\n",
      "2\n",
      "DimensionMismatch(\"arrays could not be broadcast to a common size; got a dimension with lengths 90 and 2\")\n"
     ]
    }
   ],
   "source": [
    "plot_sorttype = \"Distance\"\n",
    "for f in files\n",
    "    year = split(split(split(f,\"/\")[end],\"_\")[end],\".\")[1]\n",
    "# \n",
    "    try  \n",
    "        file = h5open(f,\"r\")\n",
    "        for comp in components\n",
    "            for (ind, sktype) in enumerate([\"linear\"])#,\"pws\",\"robust\"])\n",
    "                for filt in [\"NO.B4\"]#,\"NO.B2\",\"NO.B3\", \"NO.B4\",\"NO.B5\",\"NO.B6\",\"NO.G1\",\"NO.G2\",\"NO.G3\",\"NO.G4\"]\n",
    "                    source, stacktype, component, filter = convert(String, split(f, \".\")[end-1][1:3]), sktype, comp, filt\n",
    "                    fcorrs = get_corrs(file, stacktype, component, filter)\n",
    "                    if length(fcorrs) > 1\n",
    "                        println(\"Plotting $filt $comp $sktype for $source in $year\")\n",
    "                        attributes = [source,component,stacktype]\n",
    "                        plot_by_latitude(fcorrs, frequency_plots,attributes)\n",
    "                        println(\"finised plotting\")\n",
    "                    end\n",
    "                end\n",
    "            end\n",
    "        end\n",
    "    catch e\n",
    "        println(e)\n",
    "    end\n",
    "end"
   ]
  },
  {
   "cell_type": "code",
   "execution_count": null,
   "metadata": {},
   "outputs": [],
   "source": []
  },
  {
   "cell_type": "code",
   "execution_count": null,
   "metadata": {},
   "outputs": [],
   "source": []
  }
 ],
 "metadata": {
  "kernelspec": {
   "display_name": "Julia nodepts 1.7.2",
   "language": "julia",
   "name": "julia-nodepts-1.7"
  },
  "language_info": {
   "file_extension": ".jl",
   "mimetype": "application/julia",
   "name": "julia",
   "version": "1.7.2"
  }
 },
 "nbformat": 4,
 "nbformat_minor": 4
}
