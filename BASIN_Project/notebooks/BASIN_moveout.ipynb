{
 "cells": [
  {
   "cell_type": "markdown",
   "metadata": {},
   "source": [
    "# BASIN moveout plot notebooks\n",
    "This notebook makes moveout plots of the stacked cross correlations between broadbands and nodal stations. It is highly inspired by Julian Schmitt's work, modified by Marine Denolle (mdenolle@uw.edu)"
   ]
  },
  {
   "cell_type": "code",
   "execution_count": 2,
   "metadata": {},
   "outputs": [
    {
     "name": "stdout",
     "output_type": "stream",
     "text": [
      "cm_maxamp overwritten\n"
     ]
    },
    {
     "name": "stderr",
     "output_type": "stream",
     "text": [
      "\u001b[32m\u001b[1m    Building\u001b[22m\u001b[39m GR → `~/.julia/scratchspaces/44cfe95a-1eb2-52ea-b672-e2afdf69b78f/9f836fb62492f4b0f0d3b06f55983f2704ed0883/build.log`\n",
      "\u001b[32m\u001b[1mPrecompiling\u001b[22m\u001b[39m project...\n",
      "\u001b[33m  ✓ \u001b[39m\u001b[90mGR\u001b[39m\n",
      "\u001b[33m  ✓ \u001b[39mPlots\n",
      "  2 dependencies successfully precompiled in 63 seconds (217 already precompiled)\n",
      "  \u001b[33m2\u001b[39m dependencies precompiled but different versions are currently loaded. Restart julia to access the new versions\n"
     ]
    }
   ],
   "source": [
    "# Packages - set GR as plotting backend \n",
    "#include(\"/Users/julianschmitt/Documents/Schoolwork/Seismology/SeisCore.jl/src/SeisCore.jl\")\n",
    "using Pkg, SeisIO, SeisNoise, Plots, Dates, CSV, DataFrames, Distributed, JLD2, Statistics, PyCall, Glob, StructArrays, ColorSchemes, Plots.PlotUtils, HDF5, AbstractFFTs\n",
    "include(\"../../src/process.jl\")\n",
    "include(\"../src/utils.jl\")\n",
    "ENV[\"GR\"] = \"\"\n",
    "Pkg.build(\"GR\")\n",
    "loadcolorscheme(:cm_maxamp,ColorSchemes.gist_heat.colors[end-50:-1:1], \"maxamp color\", \"for waveform plot\");"
   ]
  },
  {
   "cell_type": "code",
   "execution_count": null,
   "metadata": {},
   "outputs": [],
   "source": [
    "# metaparams for plots\n",
    "n_derivatives = 2\n",
    "n_deriv_names = [\"Raw\",\"PGD\",\"PDV\"]\n",
    "#plot_sorttype = \"Latitude\" # other options include \"Longitude\" and (soon) \"Distance\" (in progress...) \n",
    "years = [2017]#, 2018, 2019]\n",
    "components = [\"ZZ\"]#[\"EE\",\"EN\",\"EZ\",\"NE\", \"NN\", \"NZ\",\"ZE\",\"ZN\", \"ZZ\"]\n",
    "source_stations = [\"SVD\"]#[\"CHN\",\"CJM\",\"DEV\",\"IPT\",\"LPC\",\"SNO\",\"SVD\",\"TA2\"]\n",
    "rootdir = \"/Users/marinedenolle/BASIN\" # chose root directory for plots\n",
    "lw, scale, frequency_plots = 0.5, 3, [[0.1,0.2],[0.15, 0.25],[0.2,0.3],[0.1,0.35]]\n",
    "locations = DataFrame(CSV.File(\"/Users/marinedenolle/BASIN/C4-Project.jl/docs/modified_nodal.csv\"));"
   ]
  }
 ],
 "metadata": {
  "kernelspec": {
   "display_name": "Julia nodepts 1.7.2",
   "language": "julia",
   "name": "julia-nodepts-1.7"
  },
  "language_info": {
   "file_extension": ".jl",
   "mimetype": "application/julia",
   "name": "julia",
   "version": "1.7.2"
  }
 },
 "nbformat": 4,
 "nbformat_minor": 4
}
