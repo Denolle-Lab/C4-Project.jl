{
 "cells": [
  {
   "cell_type": "markdown",
   "metadata": {},
   "source": [
    "# BASIN moveout plot notebooks\n",
    "This notebook makes moveout plots of the stacked cross correlations between broadbands and nodal stations. It is highly inspired by Julian Schmitt's work, modified by Marine Denolle (mdenolle@uw.edu)"
   ]
  },
  {
   "cell_type": "code",
   "execution_count": 2,
   "metadata": {},
   "outputs": [
    {
     "name": "stdout",
     "output_type": "stream",
     "text": [
      "Your GR installation is incomplete. Rerunning build step for GR package.\n"
     ]
    },
    {
     "name": "stderr",
     "output_type": "stream",
     "text": [
      "┌ Info: Creating depsfile. GR provider is BinaryBuilder\n",
      "│   provider = BinaryBuilder\n",
      "│   depsfile = /Users/marinedenolle/.julia/packages/GR/jpQcZ/deps/deps.jl\n",
      "└ @ GR.Builder /Users/marinedenolle/.julia/packages/GR/jpQcZ/deps/build.jl:119\n",
      "┌ Info: GR was successfully rebuilt\n",
      "└ @ GR /Users/marinedenolle/.julia/packages/GR/jpQcZ/src/GR.jl:366\n",
      "WARNING: could not import HDF5.Group into _hdf5_implementation\n",
      "WARNING: could not import HDF5.Dataset into _hdf5_implementation\n",
      "┌ Warning: Error requiring `HDF5` from `Plots`\n",
      "│   exception = (LoadError(\"/Users/marinedenolle/.julia/packages/Plots/tXtrW/src/backends/hdf5.jl\", 36, UndefVarError(:Group)), Union{Ptr{Nothing}, Base.InterpreterIP}[Ptr{Nothing} @0x000000010ee2fb1f, Ptr{Nothing} @0x000000010eed93cf, Ptr{Nothing} @0x000000010eeda57b, Ptr{Nothing} @0x000000010eed8ae6, Ptr{Nothing} @0x000000010eed90dc, Base.InterpreterIP in top-level CodeInfo for Plots._hdf5_implementation at statement 4, Ptr{Nothing} @0x000000010eef415f, Ptr{Nothing} @0x000000010eef42f5, Ptr{Nothing} @0x000000010eef3f02, Ptr{Nothing} @0x000000010eef3f02, Ptr{Nothing} @0x000000010eef51d5, Ptr{Nothing} @0x000000011fc687da, Ptr{Nothing} @0x000000010eec1160, Ptr{Nothing} @0x000000011fca7f45, Ptr{Nothing} @0x000000011f833c85, Ptr{Nothing} @0x000000010eec1160, Ptr{Nothing} @0x000000010eecdf4a, Ptr{Nothing} @0x000000011c57457a, Ptr{Nothing} @0x000000010eec1160, Ptr{Nothing} @0x000000010eeda59f, Ptr{Nothing} @0x000000010eed8ae6, Ptr{Nothing} @0x000000010eed90dc, Base.InterpreterIP in top-level CodeInfo for Plots at statement 10, Ptr{Nothing} @0x000000010eef415f, Ptr{Nothing} @0x000000010eef51d5, Ptr{Nothing} @0x000000011c5744eb, Ptr{Nothing} @0x000000011c57450f, Ptr{Nothing} @0x000000010eec1160, Ptr{Nothing} @0x000000010eeda59f, Ptr{Nothing} @0x000000010eed8809, Ptr{Nothing} @0x000000010eed8d2a, Ptr{Nothing} @0x000000010eed850c, Base.InterpreterIP in MethodInstance for Requires.err(::Any, ::Module, ::String, ::String, ::Any) at statement 8, Ptr{Nothing} @0x000000011c574435, Ptr{Nothing} @0x000000011c57444f, Ptr{Nothing} @0x000000010eec1160, Ptr{Nothing} @0x000000010eeda59f, Ptr{Nothing} @0x000000010eed8809, Ptr{Nothing} @0x000000010eed8d2a, Ptr{Nothing} @0x000000010eed850c, Base.InterpreterIP in MethodInstance for Requires.withpath(::Any, ::String) at statement 10, Ptr{Nothing} @0x000000011c5742e4, Ptr{Nothing} @0x000000011c57438f, Ptr{Nothing} @0x000000010eec1160, Ptr{Nothing} @0x000000010eeda59f, Ptr{Nothing} @0x000000010eed87d0, Ptr{Nothing} @0x000000010eed850c, Base.InterpreterIP in MethodInstance for Requires.listenpkg(::Any, ::Base.PkgId) at statement 3, Ptr{Nothing} @0x000000011c566ac3, Ptr{Nothing} @0x000000011c567a0f, Ptr{Nothing} @0x000000010eec1160, Ptr{Nothing} @0x000000010eef28c3, Ptr{Nothing} @0x000000010eee4027, Ptr{Nothing} @0x000000011c519156, Ptr{Nothing} @0x000000011c51a5a5, Ptr{Nothing} @0x000000011c51cdfb, Ptr{Nothing} @0x000000011c51f699, Ptr{Nothing} @0x000000011c520525, Ptr{Nothing} @0x000000010eec1160, Ptr{Nothing} @0x000000010eef4d3c, Ptr{Nothing} @0x000000010eef3adf, Ptr{Nothing} @0x000000010eef3f02, Ptr{Nothing} @0x000000010eef51d5, Ptr{Nothing} @0x000000011c4e5fcc, Ptr{Nothing} @0x000000011c4e6479, Ptr{Nothing} @0x000000010eec1160, Ptr{Nothing} @0x000000011c4e37da, Ptr{Nothing} @0x000000010eec1160, Ptr{Nothing} @0x000000010eecdf4a, Ptr{Nothing} @0x000000011c4d80e8, Ptr{Nothing} @0x000000011c4d880e, Ptr{Nothing} @0x000000011c4d882f, Ptr{Nothing} @0x000000010eec1160, Ptr{Nothing} @0x000000010eedee1f])\n",
      "└ @ Requires /Users/marinedenolle/.julia/packages/Requires/Z8rfN/src/require.jl:51\n",
      "\u001b[32m\u001b[1m    Building\u001b[22m\u001b[39m GR → `~/.julia/scratchspaces/44cfe95a-1eb2-52ea-b672-e2afdf69b78f/9f836fb62492f4b0f0d3b06f55983f2704ed0883/build.log`\n",
      "\u001b[32m\u001b[1mPrecompiling\u001b[22m\u001b[39m project...\n",
      "\u001b[33m  ✓ \u001b[39m\u001b[90mGR\u001b[39m\n",
      "\u001b[33m  ✓ \u001b[39mPlots\n",
      "  2 dependencies successfully precompiled in 44 seconds (217 already precompiled)\n",
      "  \u001b[33m2\u001b[39m dependencies precompiled but different versions are currently loaded. Restart julia to access the new versions\n"
     ]
    }
   ],
   "source": [
    "# Packages - set GR as plotting backend \n",
    "#include(\"/Users/julianschmitt/Documents/Schoolwork/Seismology/SeisCore.jl/src/SeisCore.jl\")\n",
    "using Pkg, SeisIO, SeisNoise, Plots, Dates, CSV, DataFrames, Distributed, JLD2, Statistics, PyCall, Glob, StructArrays, ColorSchemes, Plots.PlotUtils, HDF5, AbstractFFTs\n",
    "include(\"../../src/process.jl\")\n",
    "include(\"../src/utils.jl\")\n",
    "ENV[\"GR\"] = \"\"\n",
    "Pkg.build(\"GR\")\n",
    "loadcolorscheme(:cm_maxamp,ColorSchemes.gist_heat.colors[end-50:-1:1], \"maxamp color\", \"for waveform plot\");"
   ]
  },
  {
   "cell_type": "code",
   "execution_count": 3,
   "metadata": {},
   "outputs": [],
   "source": [
    "# metaparams for plots\n",
    "n_derivatives = 2\n",
    "n_deriv_names = [\"Raw\",\"PGD\",\"PDV\"]\n",
    "#plot_sorttype = \"Latitude\" # other options include \"Longitude\" and (soon) \"Distance\" (in progress...) \n",
    "years = [2017]#, 2018, 2019]\n",
    "components = [\"ZZ\",\"EE\",\"EN\",\"EZ\",\"NE\", \"NN\", \"NZ\",\"ZE\",\"ZN\", \"ZZ\"]\n",
    "source_stations = [\"SVD\"]#[\"CHN\",\"CJM\",\"DEV\",\"IPT\",\"LPC\",\"SNO\",\"SVD\",\"TA2\"]\n",
    "rootdir = \"/Users/marinedenolle/BASIN\" # chose root directory for plots\n",
    "lw, scale, frequency_plots = 0.5, 3, [[0.1,0.2],[0.15, 0.25],[0.2,0.3],[0.1,0.35]]\n",
    "locations = DataFrame(CSV.File(\"/Users/marinedenolle/BASIN/C4-Project.jl/docs/modified_nodal.csv\"));"
   ]
  },
  {
   "cell_type": "code",
   "execution_count": 4,
   "metadata": {},
   "outputs": [
    {
     "name": "stdout",
     "output_type": "stream",
     "text": [
      "[\"/Users/marinedenolle/BASIN/nodestack/CI.SVD_2017.h5\", \"/Users/marinedenolle/BASIN/nodestack/CI.SVD_2017_allday.h5\"]\n"
     ]
    },
    {
     "data": {
      "text/plain": [
       "2-element Vector{String}:\n",
       " \"/Users/marinedenolle/BASIN/nodestack/CI.SVD_2017.h5\"\n",
       " \"/Users/marinedenolle/BASIN/nodestack/CI.SVD_2017_allday.h5\""
      ]
     },
     "execution_count": 4,
     "metadata": {},
     "output_type": "execute_result"
    }
   ],
   "source": [
    "files = glob(\"nodestack/*\",rootdir);\n",
    "println(files)\n",
    "filter!(x -> occursin(\"SVD\", x), files)"
   ]
  },
  {
   "cell_type": "markdown",
   "metadata": {},
   "source": [
    "## function to plot per distance range"
   ]
  },
  {
   "cell_type": "code",
   "execution_count": 24,
   "metadata": {},
   "outputs": [
    {
     "data": {
      "text/plain": [
       "plot_by_latitude (generic function with 4 methods)"
      ]
     },
     "execution_count": 24,
     "metadata": {},
     "output_type": "execute_result"
    }
   ],
   "source": [
    "function plot_by_latitude(corrs::Array{CorrData,1}, freqs::Array{Array{Float64,1},1}, \n",
    "                            attr::Array{String,1}=[\"\",\"\",\"\",\"\"], src_geo::Any=nothing, fs::Float64=20.)\n",
    "    source = attr[1]\n",
    "    println(source)\n",
    "    println(\"Sorting by distance\")\n",
    "    plot_sorttype == \"Latitude\"\n",
    "    println(corrs[1].loc.lat)\n",
    "    \n",
    "    sort_method = sort([corr.loc.lat for corr in corrs])\n",
    "#         sort_method = sort([corr.latitude for corr in corrs])#sort([get_dist(source_geo, corr.loc) for corr in corrs])\n",
    "    p = sortperm([corr.loc.lat for corr in corrs])#[get_dist(source_geo, corr.loc) for corr in corrs])\n",
    "        #println(\"Not currently a supported stacktype\")\n",
    "\n",
    "\n",
    "    lmin, lmax = minimum(sort_method), maximum(sort_method)\n",
    "    new_corrs, n_corrs = corrs[p], length(corrs)\n",
    "    y_labels = (round.(collect(range(0, 10*n_corrs, length=10)),digits=3),round.(collect(range(lmin, lmax, length=10)),digits=3))\n",
    "    for freq_pair in freqs\n",
    "        NS_plot = plot(xlims = (-100,100), ylims = (-10,n_corrs*10+15), \n",
    "                    yticks=y_labels,xlabel = \"Time (s)\", ylabel = \"Station Nodes by $plot_sorttype (lat)\",  \n",
    "                    xtickfontsize=5,ytickfontsize=5,fontsize=5, xguidefontsize = 10, yguidefontsize = 10,\n",
    "                    legendfontsize = 10, title=\"$(attr[3]) $(attr[2]) from $(attr[1]): $(freq_pair[1]) to $(freq_pair[2])\",\n",
    "                    titlefontsize= 10)\n",
    "        # bandpass correlations \n",
    "        corrs_processed = []\n",
    "        max_amp = []\n",
    "        ys, maxloc = [], []\n",
    "        for (ind, corr) in enumerate(new_corrs)\n",
    "            try\n",
    "                # bandpass, scale, shift, and add to plot\n",
    "                dist = corr.dist #ind*5#get_dist(source_geo, corr.loc)\n",
    "                taper!(corr)\n",
    "                processed = bandpass(fftderivative(corr.corr), freq_pair[1], freq_pair[2], 20.)\n",
    "                nwin2 = convert(Int64, round(length(processed)/2))\n",
    "                t2=convert(Int64, floor(nwin2-(dist/5)*corr.fs))\n",
    "                t1=convert(Int64, ceil(nwin2-(dist/1.5)*corr.fs))\n",
    "                trange = collect(t1:1:t2) # anticausal window of ballistic waves\n",
    "                imax = findmax(processed[trange])[2]+t1\n",
    "                push!(maxloc, imax)\n",
    "                push!(ys, ind*10)\n",
    "                push!(max_amp, findmax(processed[trange]))\n",
    "                push!(corrs_processed, processed./findmax(processed)[1].*10 )\n",
    "            catch e\n",
    "                println(e)\n",
    "            end\n",
    "        end\n",
    "        # get the max amp\n",
    "        mmax = findmax(max_amp)[1][1]\n",
    "        T = collect(-300.:1/fs:300.)\n",
    "        crap=[]\n",
    "        for i in collect(1:length(corrs_processed))\n",
    "            push!(crap,corrs_processed[i]./max_amp[i][1].*mmax .+ 10*i)\n",
    "\n",
    "        end\n",
    "        plot!(NS_plot, T, crap, color=:cm_maxamp, colorbar_title=\"Normalized Maximum Amplitude\", \n",
    "                line_z=getindex.(max_amp,1)', fmt = :png, linewidth = 0.5, reuse = false, legend = false)    \n",
    "        plot!(size=(350,400),dpi=500)\n",
    "        \n",
    "        # add dots where max_amp is chosen \n",
    "        dot_locations = [amp[2] for amp in max_amp]\n",
    "        y = 10 .* collect(0:length(max_amp))\n",
    "        mloc = [T[ind] for ind in maxloc]\n",
    "        scatter!(mloc, ys, color=\"black\", markersize=1.2)\n",
    "        filepath = joinpath(\"/Users/marinedenolle/BASIN/nodestack_windowed/$(attr[1])/\")\n",
    "        DIR = dirname(filepath)\n",
    "        if !isdir(DIR)\n",
    "            mkpath(DIR)\n",
    "        end\n",
    "        print(filepath)\n",
    "        png(NS_plot,filepath*\"$(new_corrs[1].name[1:5])_waveforms_$(attr[2])_$(freq_pair[1])to$(freq_pair[2])_allday.png\")\n",
    "    end\n",
    "end"
   ]
  },
  {
   "cell_type": "code",
   "execution_count": 25,
   "metadata": {},
   "outputs": [
    {
     "name": "stdout",
     "output_type": "stream",
     "text": [
      "String\n",
      "2017\n",
      "/Users/marinedenolle/BASIN/nodestack/CI.SVD_2017_allday.h5\n"
     ]
    }
   ],
   "source": [
    "# print(files)\n",
    "f=files[2]\n",
    "println(typeof(f))\n",
    "year = split(split(split(f,\"/\")[end],\"_\")[end-1],\".\")[1]\n",
    "println(year)\n",
    "println(f)"
   ]
  },
  {
   "cell_type": "markdown",
   "metadata": {},
   "source": [
    "## Stackplot Script for BASIN Data"
   ]
  },
  {
   "cell_type": "code",
   "execution_count": 26,
   "metadata": {},
   "outputs": [
    {
     "name": "stdout",
     "output_type": "stream",
     "text": [
      "/Users/marinedenolle/BASIN/nodestack/CI.SVD_2017_allday.h5\n",
      "2017\n",
      "SVD\n",
      "Sorting by distance\n",
      "34.15833\n",
      "UndefKeywordError(:dims)\n",
      "UndefKeywordError(:dims)\n",
      "UndefKeywordError(:dims)\n",
      "UndefKeywordError(:dims)\n",
      "UndefKeywordError(:dims)\n",
      "UndefKeywordError(:dims)\n",
      "UndefKeywordError(:dims)\n",
      "UndefKeywordError(:dims)\n",
      "UndefKeywordError(:dims)\n",
      "UndefKeywordError(:dims)\n",
      "UndefKeywordError(:dims)\n",
      "UndefKeywordError(:dims)\n",
      "UndefKeywordError(:dims)\n",
      "UndefKeywordError(:dims)\n",
      "UndefKeywordError(:dims)\n",
      "UndefKeywordError(:dims)\n",
      "UndefKeywordError(:dims)\n",
      "UndefKeywordError(:dims)\n",
      "UndefKeywordError(:dims)\n",
      "UndefKeywordError(:dims)\n",
      "UndefKeywordError(:dims)\n",
      "UndefKeywordError(:dims)\n",
      "UndefKeywordError(:dims)\n",
      "UndefKeywordError(:dims)\n",
      "UndefKeywordError(:dims)\n",
      "UndefKeywordError(:dims)\n",
      "UndefKeywordError(:dims)\n",
      "UndefKeywordError(:dims)\n",
      "UndefKeywordError(:dims)\n",
      "UndefKeywordError(:dims)\n",
      "UndefKeywordError(:dims)\n",
      "UndefKeywordError(:dims)\n",
      "UndefKeywordError(:dims)\n",
      "UndefKeywordError(:dims)\n",
      "UndefKeywordError(:dims)\n",
      "UndefKeywordError(:dims)\n",
      "UndefKeywordError(:dims)\n",
      "UndefKeywordError(:dims)\n",
      "UndefKeywordError(:dims)\n",
      "UndefKeywordError(:dims)\n",
      "UndefKeywordError(:dims)\n",
      "UndefKeywordError(:dims)\n",
      "UndefKeywordError(:dims)\n",
      "UndefKeywordError(:dims)\n",
      "UndefKeywordError(:dims)\n",
      "UndefKeywordError(:dims)\n",
      "UndefKeywordError(:dims)\n",
      "UndefKeywordError(:dims)\n",
      "UndefKeywordError(:dims)\n",
      "UndefKeywordError(:dims)\n",
      "UndefKeywordError(:dims)\n",
      "UndefKeywordError(:dims)\n",
      "UndefKeywordError(:dims)\n",
      "UndefKeywordError(:dims)\n",
      "UndefKeywordError(:dims)\n",
      "UndefKeywordError(:dims)\n",
      "UndefKeywordError(:dims)\n",
      "UndefKeywordError(:dims)\n",
      "UndefKeywordError(:dims)\n",
      "UndefKeywordError(:dims)\n",
      "UndefKeywordError(:dims)\n",
      "UndefKeywordError(:dims)\n",
      "UndefKeywordError(:dims)\n",
      "UndefKeywordError(:dims)\n",
      "UndefKeywordError(:dims)\n",
      "UndefKeywordError(:dims)\n",
      "UndefKeywordError(:dims)\n",
      "UndefKeywordError(:dims)\n",
      "UndefKeywordError(:dims)\n",
      "UndefKeywordError(:dims)\n",
      "UndefKeywordError(:dims)\n",
      "UndefKeywordError(:dims)\n",
      "UndefKeywordError(:dims)\n",
      "UndefKeywordError(:dims)\n",
      "UndefKeywordError(:dims)\n",
      "UndefKeywordError(:dims)\n",
      "UndefKeywordError(:dims)\n",
      "UndefKeywordError(:dims)\n",
      "UndefKeywordError(:dims)\n",
      "UndefKeywordError(:dims)\n",
      "UndefKeywordError(:dims)\n",
      "UndefKeywordError(:dims)\n",
      "UndefKeywordError(:dims)\n",
      "UndefKeywordError(:dims)\n",
      "UndefKeywordError(:dims)\n",
      "UndefKeywordError(:dims)\n",
      "UndefKeywordError(:dims)\n",
      "UndefKeywordError(:dims)\n",
      "UndefKeywordError(:dims)\n",
      "UndefKeywordError(:dims)\n",
      "ArgumentError(\"reducing over an empty collection is not allowed\")\n"
     ]
    }
   ],
   "source": [
    "plot_sorttype = \"Latitude\"\n",
    "println(f)\n",
    "year = split(split(split(f,\"/\")[end],\"_\")[end-1],\".\")[1]\n",
    "println(year)\n",
    "# \n",
    "try  \n",
    "    file = h5open(f,\"r\")\n",
    "    for comp in components\n",
    "        for (ind, sktype) in enumerate([\"linear\"])#,\"pws\",\"robust\"])\n",
    "            for filt in [\"NO.B4\"]#,\"NO.B2\",\"NO.B3\", \"NO.B4\",\"NO.B5\",\"NO.B6\",\"NO.G1\",\"NO.G2\",\"NO.G3\",\"NO.G4\"]\n",
    "                source, stacktype, component, filter = convert(String, split(f, \".\")[end-1][1:3]), sktype, comp, filt\n",
    "                fcorrs = get_corrs(file, stacktype, component, filter)\n",
    "                if length(fcorrs) > 1\n",
    "#                         println(\"Plotting $filt $comp $sktype for $source in $year\")\n",
    "                    attributes = [source,component,stacktype]\n",
    "                    plot_by_latitude(fcorrs, frequency_plots,attributes)\n",
    "#                         println(\"finised plotting\")\n",
    "                end\n",
    "            end\n",
    "        end\n",
    "    end\n",
    "catch e\n",
    "    println(e)\n",
    "end"
   ]
  },
  {
   "cell_type": "code",
   "execution_count": null,
   "metadata": {},
   "outputs": [],
   "source": []
  },
  {
   "cell_type": "code",
   "execution_count": null,
   "metadata": {},
   "outputs": [],
   "source": []
  }
 ],
 "metadata": {
  "kernelspec": {
   "display_name": "Julia nodepts 1.7.2",
   "language": "julia",
   "name": "julia-nodepts-1.7"
  },
  "language_info": {
   "file_extension": ".jl",
   "mimetype": "application/julia",
   "name": "julia",
   "version": "1.7.2"
  }
 },
 "nbformat": 4,
 "nbformat_minor": 4
}
