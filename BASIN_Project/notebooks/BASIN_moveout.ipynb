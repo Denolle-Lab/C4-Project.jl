{
 "cells": [
  {
   "cell_type": "markdown",
   "metadata": {},
   "source": [
    "# BASIN moveout plot notebooks\n",
    "This notebook makes moveout plots of the stacked cross correlations between broadbands and nodal stations. It is highly inspired by Julian Schmitt's work, modified by Marine Denolle (mdenolle@uw.edu)"
   ]
  },
  {
   "cell_type": "code",
   "execution_count": 1,
   "metadata": {},
   "outputs": [
    {
     "name": "stderr",
     "output_type": "stream",
     "text": [
      "WARNING: could not import HDF5.Group into _hdf5_implementation\n",
      "WARNING: could not import HDF5.Dataset into _hdf5_implementation\n",
      "┌ Warning: Error requiring `HDF5` from `Plots`\n",
      "│   exception = (LoadError(\"/Users/marinedenolle/.julia/packages/Plots/tXtrW/src/backends/hdf5.jl\", 36, UndefVarError(:Group)), Union{Ptr{Nothing}, Base.InterpreterIP}[Ptr{Nothing} @0x000000010e4bfb1f, Ptr{Nothing} @0x000000010e5693cf, Ptr{Nothing} @0x000000010e56a57b, Ptr{Nothing} @0x000000010e568ae6, Ptr{Nothing} @0x000000010e5690dc, Base.InterpreterIP in top-level CodeInfo for Plots._hdf5_implementation at statement 4, Ptr{Nothing} @0x000000010e58415f, Ptr{Nothing} @0x000000010e5842f5, Ptr{Nothing} @0x000000010e583f02, Ptr{Nothing} @0x000000010e583f02, Ptr{Nothing} @0x000000010e5851d5, Ptr{Nothing} @0x0000000118b367da, Ptr{Nothing} @0x000000010e551160, Ptr{Nothing} @0x0000000118b75f45, Ptr{Nothing} @0x0000000118701c85, Ptr{Nothing} @0x000000010e551160, Ptr{Nothing} @0x000000010e55df4a, Ptr{Nothing} @0x000000014dfe4faa, Ptr{Nothing} @0x000000010e551160, Ptr{Nothing} @0x000000010e56a59f, Ptr{Nothing} @0x000000010e568ae6, Ptr{Nothing} @0x000000010e5690dc, Base.InterpreterIP in top-level CodeInfo for Plots at statement 10, Ptr{Nothing} @0x000000010e58415f, Ptr{Nothing} @0x000000010e5851d5, Ptr{Nothing} @0x000000014dfe4f1b, Ptr{Nothing} @0x000000014dfe4f3f, Ptr{Nothing} @0x000000010e551160, Ptr{Nothing} @0x000000010e56a59f, Ptr{Nothing} @0x000000010e568809, Ptr{Nothing} @0x000000010e568d2a, Ptr{Nothing} @0x000000010e56850c, Base.InterpreterIP in MethodInstance for Requires.err(::Any, ::Module, ::String, ::String, ::Any) at statement 8, Ptr{Nothing} @0x000000014dfe4e65, Ptr{Nothing} @0x000000014dfe4e7f, Ptr{Nothing} @0x000000010e551160, Ptr{Nothing} @0x000000010e56a59f, Ptr{Nothing} @0x000000010e568809, Ptr{Nothing} @0x000000010e568d2a, Ptr{Nothing} @0x000000010e56850c, Base.InterpreterIP in MethodInstance for Requires.withpath(::Any, ::String) at statement 10, Ptr{Nothing} @0x000000014dfe4d14, Ptr{Nothing} @0x000000014dfe4dbf, Ptr{Nothing} @0x000000010e551160, Ptr{Nothing} @0x000000010e56a59f, Ptr{Nothing} @0x000000010e5687d0, Ptr{Nothing} @0x000000010e56850c, Base.InterpreterIP in MethodInstance for Requires.listenpkg(::Any, ::Base.PkgId) at statement 3, Ptr{Nothing} @0x000000014dfd6e64, Ptr{Nothing} @0x000000014dfd7dbf, Ptr{Nothing} @0x000000010e551160, Ptr{Nothing} @0x000000010e5828c3, Ptr{Nothing} @0x000000010e574027, Ptr{Nothing} @0x000000014dfb5e46, Ptr{Nothing} @0x000000014dfb7295, Ptr{Nothing} @0x000000014dfb9aeb, Ptr{Nothing} @0x000000014dfbc389, Ptr{Nothing} @0x000000014dfbd215, Ptr{Nothing} @0x000000010e551160, Ptr{Nothing} @0x000000010e584d3c, Ptr{Nothing} @0x000000010e583adf, Ptr{Nothing} @0x000000010e583f02, Ptr{Nothing} @0x000000010e5851d5, Ptr{Nothing} @0x000000014df92fcc, Ptr{Nothing} @0x000000014df93479, Ptr{Nothing} @0x000000010e551160, Ptr{Nothing} @0x000000014df907da, Ptr{Nothing} @0x000000010e551160, Ptr{Nothing} @0x000000010e55df4a, Ptr{Nothing} @0x000000014df850e8, Ptr{Nothing} @0x000000014df8580e, Ptr{Nothing} @0x000000014df8582f, Ptr{Nothing} @0x000000010e551160, Ptr{Nothing} @0x000000010e56ee1f])\n",
      "└ @ Requires /Users/marinedenolle/.julia/packages/Requires/Z8rfN/src/require.jl:51\n",
      "\u001b[32m\u001b[1m    Building\u001b[22m\u001b[39m GR → `~/.julia/scratchspaces/44cfe95a-1eb2-52ea-b672-e2afdf69b78f/9f836fb62492f4b0f0d3b06f55983f2704ed0883/build.log`\n",
      "\u001b[32m\u001b[1mPrecompiling\u001b[22m\u001b[39m project...\n",
      "\u001b[33m  ✓ \u001b[39m\u001b[90mGR\u001b[39m\n",
      "\u001b[33m  ✓ \u001b[39mPlots\n",
      "  2 dependencies successfully precompiled in 41 seconds (217 already precompiled)\n",
      "  \u001b[33m2\u001b[39m dependencies precompiled but different versions are currently loaded. Restart julia to access the new versions\n"
     ]
    }
   ],
   "source": [
    "# Packages - set GR as plotting backend \n",
    "#include(\"/Users/julianschmitt/Documents/Schoolwork/Seismology/SeisCore.jl/src/SeisCore.jl\")\n",
    "using Pkg, SeisIO, SeisNoise, Plots, Dates, CSV, DataFrames, Distributed, JLD2, Statistics, PyCall, Glob, StructArrays, ColorSchemes, Plots.PlotUtils, HDF5, AbstractFFTs\n",
    "include(\"../../src/process.jl\")\n",
    "include(\"../src/utils.jl\")\n",
    "ENV[\"GR\"] = \"\"\n",
    "Pkg.build(\"GR\")\n",
    "loadcolorscheme(:cm_maxamp,ColorSchemes.gist_heat.colors[end-50:-1:1], \"maxamp color\", \"for waveform plot\");"
   ]
  },
  {
   "cell_type": "code",
   "execution_count": null,
   "metadata": {},
   "outputs": [],
   "source": [
    "# metaparams for plots\n",
    "n_derivatives = 2\n",
    "n_deriv_names = [\"Raw\",\"PGD\",\"PDV\"]\n",
    "#plot_sorttype = \"Latitude\" # other options include \"Longitude\" and (soon) \"Distance\" (in progress...) \n",
    "years = [2017]#, 2018, 2019]\n",
    "components = [\"ZZ\"]#[\"EE\",\"EN\",\"EZ\",\"NE\", \"NN\", \"NZ\",\"ZE\",\"ZN\", \"ZZ\"]\n",
    "source_stations = [\"SVD\"]#[\"CHN\",\"CJM\",\"DEV\",\"IPT\",\"LPC\",\"SNO\",\"SVD\",\"TA2\"]\n",
    "rootdir = \"/Users/marinedenolle/BASIN\" # chose root directory for plots\n",
    "lw, scale, frequency_plots = 0.5, 3, [[0.1,0.2],[0.15, 0.25],[0.2,0.3],[0.1,0.35]]\n",
    "locations = DataFrame(CSV.File(\"/Users/marinedenolle/BASIN/C4-Project.jl/docs/modified_nodal.csv\"));"
   ]
  }
 ],
 "metadata": {
  "kernelspec": {
   "display_name": "Julia nodepts 1.7.2",
   "language": "julia",
   "name": "julia-nodepts-1.7"
  },
  "language_info": {
   "file_extension": ".jl",
   "mimetype": "application/julia",
   "name": "julia",
   "version": "1.7.2"
  }
 },
 "nbformat": 4,
 "nbformat_minor": 4
}
